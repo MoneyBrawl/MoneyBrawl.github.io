{
 "cells": [
  {
   "cell_type": "raw",
   "id": "c129b3ab",
   "metadata": {},
   "source": [
    "---\n",
    "execute:\n",
    "  echo: false\n",
    "  include: false\n",
    "format:\n",
    "  html:\n",
    "    toc: true\n",
    "    html-math-method: katex\n",
    "    css: styles.css\n",
    "---"
   ]
  },
  {
   "cell_type": "markdown",
   "id": "eb32b341",
   "metadata": {},
   "source": [
    "<style>\n",
    "    div.text_cell_render {\n",
    "    font-family: \"Helvetica Neue\",Helvetica,Arial,sans-serif;\n",
    "}\n",
    "</style>"
   ]
  },
  {
   "cell_type": "markdown",
   "id": "36374419-f680-49d3-8a4d-69289001f59d",
   "metadata": {
    "tags": []
   },
   "source": [
    "<h1 style=\"font-family:Merriweather Sans\"> Nick Saban won't be the G.O.A.T.</h1>"
   ]
  },
  {
   "cell_type": "markdown",
   "id": "3fa7faa9-a2d6-4685-9fe3-5bdc60b6c9b1",
   "metadata": {
    "tags": []
   },
   "source": [
    "<h3 style=\"font-family:Merriweather Sans\">Part 1: The NFL Draft</h3>"
   ]
  },
  {
   "cell_type": "markdown",
   "id": "96cd1255-aad1-4edf-9b5b-2e3fc86038f2",
   "metadata": {
    "tags": []
   },
   "source": [
    "<div style=\"font-family:Merriweather Sans\">By: Ben Leathers</div>"
   ]
  },
  {
   "cell_type": "markdown",
   "id": "9a894827-2f0d-48f9-b98a-893516bd8af8",
   "metadata": {
    "tags": []
   },
   "source": [
    "<div style=\"font-family:Merriweather Sans; margin-bottom: 40px\">2023-04-17</div>"
   ]
  },
  {
   "cell_type": "markdown",
   "id": "94c8b707-1942-4d27-a130-ad3eafaa811d",
   "metadata": {
    "tags": []
   },
   "source": [
    "<div style=\"font-family:Merriweather Sans; margin-bottom: 40px\">Clickbait headline aside, Nick Saban is unquestionably the greatest coach in history. However, the interesting thing about \"all time\" is that it includes the future. While many think Saban will be the G.O.A.T., Kirby Smart, who's coming off of back to back national championships, is seven years down a war path aimed at claiming the G.O.A.T. title.</div>"
   ]
  },
  {
   "cell_type": "markdown",
   "id": "669e0385-85bd-4d5f-a69b-4a3a14819c12",
   "metadata": {
    "tags": []
   },
   "source": [
    "<div style=\"font-family:Merriweather Sans; margin-bottom: 40px\">There are many apects of a coach's career that will be referenced when fans engage in the G.O.A.T. debate, and I look forward to exploring them all, but with the 2023 NFL Draft happening next week and Kirby Smart coming off a record setting year with fifteen players drafted in 2022, I wanted to wet the series whistle with a focus on the NFL Draft production for their respective careers. Let's begin with Kirby, whose head coaching career began in 2016.</div>"
   ]
  },
  {
   "cell_type": "markdown",
   "id": "dcf8e282-ef4a-42f2-be59-2374fa4a36f2",
   "metadata": {
    "tags": []
   },
   "source": [
    "<h3 style=\"font-family:Merriweather Sans; margin-bottom: 40px\">How well has UGA put players into the draft while Kirby Smart has been the head coach?</h3>"
   ]
  },
  {
   "cell_type": "markdown",
   "id": "04289a02-5cd4-47e1-b4f1-5169473953e1",
   "metadata": {},
   "source": [
    "![](kirby_first_six.png)"
   ]
  },
  {
   "cell_type": "markdown",
   "id": "1d540cbe-ffd1-473b-9975-7346b9996268",
   "metadata": {},
   "source": [
    "<div style=\"font-family:Merriweather Sans; margin-bottom: 40px\"></div>"
   ]
  },
  {
   "cell_type": "markdown",
   "id": "e46eecdd-7853-4c3d-951e-716e76bc7dd1",
   "metadata": {},
   "source": [
    "<div style=\"font-family:Merriweather Sans; margin-bottom: 40px\"> Wow... could that <i>\"up and to the right\"</i> trajectory suggest that Kirby's good at player development?</div>"
   ]
  },
  {
   "cell_type": "markdown",
   "id": "4f01dc30-f405-4b67-a8dd-cc7533332144",
   "metadata": {},
   "source": [
    "<div style=\"font-family:Merriweather Sans; margin-bottom: 40px\">You might be thinking to yourself... \"No, it just suggests he's recruiting better players\" which is a reasonable thing to think. Mark Richt is no question a DGD (\"Damn Good Dawg\", for any non-Georgia fans), and he elevated the program during his tenure. That being said, Kirby inherited a roster whose previous three recruiting classes had an average ranking of ~9th in the country, whereas Kirby has averaged rankings of ~3rd as head coach of UGA. So you would be justified to argue that this upward trajectory just points to better recruiting. But is there more to the story?</div>"
   ]
  },
  {
   "cell_type": "markdown",
   "id": "3cd29e31-6888-400c-ba0b-ff2d70d1097d",
   "metadata": {},
   "source": [
    "![](uga_draft_by_star.png)"
   ]
  },
  {
   "cell_type": "markdown",
   "id": "38994911-a440-4436-805c-5075f4d6f139",
   "metadata": {},
   "source": [
    "<div style=\"font-family:Merriweather Sans; margin-bottom: 40px\"></div>"
   ]
  },
  {
   "cell_type": "markdown",
   "id": "4f27eb1b-8649-4263-a0f0-0388eae3633f",
   "metadata": {},
   "source": [
    "<div style=\"font-family:Merriweather Sans; margin-bottom: 40px\">  It's not just better players. Even recruits rated 3-stars or lower are more likely to get drafted the longer they play under Kirby.</div>"
   ]
  },
  {
   "cell_type": "markdown",
   "id": "ea24ab46-b5dc-4f38-b297-ead3ff438092",
   "metadata": {
    "tags": []
   },
   "source": [
    "<h3 style=\"font-family:Merriweather Sans; margin-bottom: 40px\"> How do UGA's Draft results during Kirby's first 6 years compare to other coach's first 6 years?</h3>"
   ]
  },
  {
   "cell_type": "markdown",
   "id": "15ef4c79-6ec9-402b-9d95-f92b44b2ffbc",
   "metadata": {
    "tags": []
   },
   "source": [
    "![](top_num_draft_picks_through_first_6_years_as_head_coach.png)"
   ]
  },
  {
   "cell_type": "markdown",
   "id": "6a4500a0-d3f3-4896-a2dd-e1b7222283de",
   "metadata": {},
   "source": [
    "<div style=\"font-family:Merriweather Sans; margin-bottom: 40px\"></div>"
   ]
  },
  {
   "cell_type": "markdown",
   "id": "f9d57c3a-e1ae-4ed2-90a3-80395c5248e7",
   "metadata": {},
   "source": [
    "<div style=\"font-family:Merriweather Sans; margin-bottom: 40px\"> Seeing Jimbo Fisher at #5 was surprising to begin with, but then I remembered he had a reputation for recruiting even before NIL deals were on the table. Thankfully, with the advent of the transfer portal he's also developing a reputation for losing big name recruits (I'm looking forward to watching Deyon \"Smoke\" Bouie don the red and black this fall.). You could argue that Jimbo's ranking on that list undermines the validity of using NFL draft production as a proxy for coaching ability, but that certainly won't stop fans from including draft results in their G.O.A.T. debates, so we'll press on.</div>\n"
   ]
  },
  {
   "cell_type": "markdown",
   "id": "0c07a459-a32d-430f-a26d-4ad63dd13756",
   "metadata": {},
   "source": [
    "<div style=\"font-family:Merriweather Sans; margin-bottom: 40px\">As a Georgia fan, I want to give a tip of the cap to Mark Richt at #6. He was a great coach who put a lot of talent into the NFL.</div>\n"
   ]
  },
  {
   "cell_type": "markdown",
   "id": "c963a027-9ba1-490f-89b2-acfe359bee8c",
   "metadata": {},
   "source": [
    "<h3 style=\"font-family:Merriweather Sans; margin-bottom: 40px\">So how did Larry Coker and Jim Tressel out perform Kirby in the first 6 years?</h3>"
   ]
  },
  {
   "cell_type": "markdown",
   "id": "f2ad330b-6ef1-460e-aceb-7a145e25065d",
   "metadata": {
    "tags": []
   },
   "source": [
    "![](top_3_num_draft_picks_through_first_6_years_as_head_coach_line.png)"
   ]
  },
  {
   "cell_type": "markdown",
   "id": "03f0e950-3b39-4fdf-96b6-7c223173ae40",
   "metadata": {},
   "source": [
    "<div style=\"font-family:Merriweather Sans; margin-bottom: 40px\"></div>"
   ]
  },
  {
   "cell_type": "markdown",
   "id": "0b05e26a-0d7b-4349-8f1a-46b80e17842e",
   "metadata": {},
   "source": [
    "<div style=\"font-family:Merriweather Sans; margin-bottom: 40px\">Oh, they stepped into programs with loaded rosters that put 8 and 11 players into the NFL in year 1. Kirby didn't inherit a desolate roster, but it was certainly more modest.</div>"
   ]
  },
  {
   "cell_type": "markdown",
   "id": "768d6a17-149a-4cab-bc87-d28d54dfbdd4",
   "metadata": {},
   "source": [
    "<h3 style=\"font-family:Merriweather Sans; margin-bottom: 40px\">How many UGA players will need to be drafted in order for Kirby to jump into first in year 7?</h3>"
   ]
  },
  {
   "cell_type": "markdown",
   "id": "a454900f-9fad-4e0f-833e-ae49ac38984d",
   "metadata": {
    "tags": []
   },
   "source": [
    "![](top_num_draft_picks_through_first_7_years_as_head_coach.png)"
   ]
  },
  {
   "cell_type": "markdown",
   "id": "e6394f2b-f1bd-41bc-8584-40dadbe50267",
   "metadata": {},
   "source": [
    "<div style=\"font-family:Merriweather Sans; margin-bottom: 40px\"></div>"
   ]
  },
  {
   "cell_type": "markdown",
   "id": "663ed770-7f3e-4c66-a07e-5448512d6d91",
   "metadata": {},
   "source": [
    "<div style=\"font-family:Merriweather Sans; margin-bottom: 40px\">With 13 UGA players declared for this year's draft and pundits projecting 6 UGA players to go in the first 3 rounds alone, Kirby will almost certainly be sitting atop the year-7 draft production rankings by the conclusion of the 7th round.</div>"
   ]
  },
  {
   "cell_type": "markdown",
   "id": "edcf58b4-aa18-4fdb-abdf-bf62acf581ba",
   "metadata": {},
   "source": [
    "<h3 style=\"font-family:Merriweather Sans; margin-bottom: 40px\"> (Sidebar) What Happened to Larry Coker?</h3>"
   ]
  },
  {
   "cell_type": "markdown",
   "id": "749f66d8-82c6-4a98-812a-f43921577aaf",
   "metadata": {},
   "source": [
    "<div style=\"font-family:Merriweather Sans; margin-bottom: 40px\">Wasn't he tied for first with 47 players drafted in his first 6 years as a head coach? He got fired from Miami after going 6-6 and didn't coach again until 2012 when he was hired by UTSA.</div>"
   ]
  },
  {
   "cell_type": "markdown",
   "id": "efbc0e89-12b9-4752-8517-1a1805a82c22",
   "metadata": {},
   "source": [
    "<h3 style=\"font-family:Merriweather Sans; margin-bottom: 40px\">Let's check on some coaches that are noticibly absent from the top ten.</h3>"
   ]
  },
  {
   "cell_type": "markdown",
   "id": "c629c96b-d5d3-445c-8da5-66cab1e9490f",
   "metadata": {
    "tags": []
   },
   "source": [
    "![](6_years_other_head_coaches.png)"
   ]
  },
  {
   "cell_type": "markdown",
   "id": "877b02b5-8018-46be-b47c-cdc4b0f58604",
   "metadata": {},
   "source": [
    "<div style=\"font-family:Merriweather Sans; margin-bottom: 40px\"></div>"
   ]
  },
  {
   "cell_type": "markdown",
   "id": "c3924797-1a3c-4816-9b93-c82af3398e41",
   "metadata": {},
   "source": [
    "<div style=\"font-family:Merriweather Sans; margin-bottom: 40px\">In fairness to Saban he didn't start his head coaching career at a blue blood football school, so lets compare the results from his start at each of the school's he's coached at.</div>"
   ]
  },
  {
   "cell_type": "markdown",
   "id": "206cb2ba-4914-4421-bc2e-c246059122ea",
   "metadata": {
    "tags": []
   },
   "source": [
    "![](smart_v_saban_draft.png)"
   ]
  },
  {
   "cell_type": "markdown",
   "id": "3b2c5b2a-efb3-4177-877f-05401e88df85",
   "metadata": {},
   "source": [
    "<div style=\"font-family:Merriweather Sans; margin-bottom: 40px\"></div>"
   ]
  },
  {
   "cell_type": "markdown",
   "id": "4eebb88a-5015-4a05-9cd0-5e195bd184a4",
   "metadata": {},
   "source": [
    "<div style=\"font-family:Merriweather Sans; margin-bottom: 40px\"></div>\n"
   ]
  },
  {
   "cell_type": "markdown",
   "id": "4c02db79-f24f-47d5-9f0b-59dafb72f5b9",
   "metadata": {},
   "source": [
    "<div style=\"font-family:Merriweather Sans; margin-bottom: 40px\">Kirby's start at UGA is out pacing any of Saban's starts. However, we don't call him the greatest in history for no reason, so let's see how things compare when we look at ANY 6 year span...</div>"
   ]
  },
  {
   "cell_type": "markdown",
   "id": "d5fa2bf2-4045-4440-a74e-eb1e70fbb486",
   "metadata": {
    "tags": []
   },
   "source": [
    "![](best_6_year_span.png)"
   ]
  },
  {
   "cell_type": "markdown",
   "id": "dc543fc1-d690-496e-8caa-9e93f18e290d",
   "metadata": {},
   "source": [
    "<div style=\"font-family:Merriweather Sans; margin-bottom: 40px\">And there it is. Saban has spent the last 11 years churning out NFL talent at an unprecedented level, and thus he currently occupies the top 6 spots in that ranking.</div>\n"
   ]
  },
  {
   "cell_type": "markdown",
   "id": "b825d541-dcf9-47aa-9d08-b2d35df430a7",
   "metadata": {},
   "source": [
    "<div style=\"font-family:Merriweather Sans; margin-bottom: 40px\">So while Kirby has certainly gotten the flywheel of talent acquisition and player development up to speed quicker than anyone else, the path to G.O.A.T. status is veeeery long. The natural next question is: can he sustain? According to <a href=\"https://youtu.be/mfhmWPG50Bk?t=85\">his post G-Day press conference</a> last weekend, UGA is \"built to sustain... That's my motto.\", and by all accounts that looks to be the case.</div>\n"
   ]
  },
  {
   "cell_type": "markdown",
   "id": "cd7f7e0b-53a5-4884-ad2b-442e36675b47",
   "metadata": {},
   "source": [
    "<div style=\"font-family:Merriweather Sans; margin-bottom: 40px\">To close, let's take a look at Saban's career in it's entirety to see just how long that war path really is.</div>\n"
   ]
  },
  {
   "cell_type": "markdown",
   "id": "6f634ef3-4157-40fe-882f-dda30e91ea3d",
   "metadata": {},
   "source": [
    "<div style=\"font-family:Merriweather Sans; margin-bottom: 40px\"></div>\n"
   ]
  },
  {
   "cell_type": "markdown",
   "id": "d867fb4a-749a-4757-ba4d-a4b683a1965b",
   "metadata": {
    "tags": []
   },
   "source": [
    "![](smart_v_saban_full_career_draft.png)"
   ]
  },
  {
   "cell_type": "markdown",
   "id": "39c573de-c94b-4bc9-8007-cf7b3a363917",
   "metadata": {},
   "source": [
    "<div style=\"font-family:Merriweather Sans; margin-bottom: 40px\">Wow. That puts \"sustain\" into perspective. Saban has over 25 years as a head coach, and he's sustained greatness over that span. Kirby has gotten off to an elite start. Only time will tell if he'll be able to sustain long enough to cement himself as the G.O.A.T. I'd bet on him.</div>\n"
   ]
  },
  {
   "cell_type": "markdown",
   "id": "07470812-0677-478e-a62b-af43e1aba237",
   "metadata": {},
   "source": [
    "<div style=\"font-family:Merriweather Sans; margin-bottom: 40px\">Stay tuned for the next part of the series.</div>"
   ]
  },
  {
   "cell_type": "markdown",
   "id": "c0d38991-880a-4def-9ccf-830dd16637d6",
   "metadata": {},
   "source": [
    "<br></br>"
   ]
  },
  {
   "cell_type": "markdown",
   "id": "1313bd34-62a4-414b-b95f-8e8e90565d5a",
   "metadata": {},
   "source": [
    "<h1 style=\"font-family:Merriweather Sans\">Takeaways:</h1>"
   ]
  },
  {
   "cell_type": "markdown",
   "id": "4e41580d-0195-4713-9c79-05cf6d78af75",
   "metadata": {},
   "source": [
    "<h2 style=\"font-family:Merriweather Sans\">Kirby's program develops players.</h2>"
   ]
  },
  {
   "cell_type": "markdown",
   "id": "09a64b89-1499-4c8c-9497-55aad0feacd3",
   "metadata": {},
   "source": [
    "<h2 style=\"font-family:Merriweather Sans\">Kirby's Death Star might not have even been fully operational yet... 🤯</h2>"
   ]
  },
  {
   "cell_type": "markdown",
   "id": "09e48092-5dae-4bf3-b151-ab7c09c40d4c",
   "metadata": {},
   "source": [
    "<h2 style=\"font-family:Merriweather Sans\">\"All Time\" includes the future, and while Saban might be the greatest in history, Kirby is on the path to take over and when it's all said and done...</h2>"
   ]
  },
  {
   "cell_type": "markdown",
   "id": "b3a5500f-5549-4e7f-92b7-fab7cc932ee8",
   "metadata": {},
   "source": [
    "<h1 style=\"font-family:Merriweather Sans\">Saban will not be the G.O.A.T., Kirby will.</h1>"
   ]
  },
  {
   "cell_type": "markdown",
   "id": "e77429a8-740c-4e13-86c0-cdfc31bb6e46",
   "metadata": {},
   "source": [
    "<div style=\"font-family:Merriweather Sans\">This analysis was based on an open source dataset, cfbd, and while I'm confident in my work, I am also confident I'm human, so if you find a mistake, please let me know.</div>"
   ]
  },
  {
   "cell_type": "code",
   "execution_count": null,
   "id": "6f5df5c2-b412-491d-8da8-d9f8794a31df",
   "metadata": {
    "slideshow": {
     "slide_type": "skip"
    },
    "tags": []
   },
   "outputs": [],
   "source": []
  }
 ],
 "metadata": {
  "kernelspec": {
   "display_name": "Python 3 (ipykernel)",
   "language": "python",
   "name": "python3"
  },
  "language_info": {
   "codemirror_mode": {
    "name": "ipython",
    "version": 3
   },
   "file_extension": ".py",
   "mimetype": "text/x-python",
   "name": "python",
   "nbconvert_exporter": "python",
   "pygments_lexer": "ipython3",
   "version": "3.10.9"
  }
 },
 "nbformat": 4,
 "nbformat_minor": 5
}
